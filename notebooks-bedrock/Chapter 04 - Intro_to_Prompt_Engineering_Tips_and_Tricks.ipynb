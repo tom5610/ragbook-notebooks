{
 "cells": [
  {
   "cell_type": "markdown",
   "metadata": {},
   "source": [
    "# Intro to Prompt Engioneering\n",
    "\n",
    "This is a replacement notebook to use Claude Haiku from Amazon Bedrock \n",
    "\n",
    "To refer to original notebook using GPT v3.5 Turbo from OpenAI - [Chapter 04 - Intro_to_Prompt_Engineering_Tips_and_Tricks.ipynb](../notebooks/Chapter%2004%20-%20Intro_to_Prompt_Engineering_Tips_and_Tricks.ipynb) "
   ]
  },
  {
   "cell_type": "markdown",
   "metadata": {},
   "source": [
    "> If you are running the notebook understand AWS resources (e.g. EC2, SageMaker Studio Notebooks, etc.), you don't need to setup AWS profile. Otherwise, you may use AWS credentials, please create AWS profile at your local and replace `<<profile name>>` with the proper name. "
   ]
  },
  {
   "cell_type": "code",
   "execution_count": 1,
   "metadata": {},
   "outputs": [
    {
     "name": "stdout",
     "output_type": "stream",
     "text": [
      "env: AWS_PROFILE=bedrock_profile\n",
      "env: AWS_DEFAULT_REGION=us-east-1\n"
     ]
    }
   ],
   "source": [
    "%env AWS_PROFILE=bedrock_profile\n",
    "%env AWS_DEFAULT_REGION=us-east-1"
   ]
  },
  {
   "cell_type": "markdown",
   "metadata": {},
   "source": [
    "Setting auto reload so as to ease the utility loading."
   ]
  },
  {
   "cell_type": "code",
   "execution_count": 2,
   "metadata": {},
   "outputs": [],
   "source": [
    "%load_ext autoreload\n",
    "%autoreload 2"
   ]
  },
  {
   "cell_type": "code",
   "execution_count": 3,
   "metadata": {},
   "outputs": [],
   "source": [
    "from scripts.bedrock_utils import completion\n",
    "from langchain_core.prompts import ChatPromptTemplate\n"
   ]
  },
  {
   "cell_type": "markdown",
   "metadata": {},
   "source": [
    "### Story Generation"
   ]
  },
  {
   "cell_type": "code",
   "execution_count": 4,
   "metadata": {},
   "outputs": [
    {
     "name": "stdout",
     "output_type": "stream",
     "text": [
      "Once upon a time, in a world where animals could speak, a courageous mouse named Benjamin decided to embark on a grand adventure. He gathered his friends, a wise owl and a nimble squirrel, and together they set out to explore the enchanted forest, determined to uncover its hidden secrets.\n"
     ]
    }
   ],
   "source": [
    "prompt_system = \"You are a helpful assistant whose goal is to help write stories.\"\n",
    "\n",
    "prompt = \"\"\"Continue the following story. Write no more than 50 words.\n",
    "\n",
    "Once upon a time, in a world where animals could speak, a courageous \\\n",
    "mouse named Benjamin decided to\"\"\"\n",
    "\n",
    "messages = [\n",
    "    (\"system\", prompt_system),\n",
    "    (\"human\", prompt)\n",
    "]\n",
    "\n",
    "prompt_template = ChatPromptTemplate.from_messages(messages)\n",
    "\n",
    "response = completion(prompt_template, temperature=1)\n",
    "print(response)"
   ]
  },
  {
   "cell_type": "markdown",
   "metadata": {},
   "source": [
    "### Product Description"
   ]
  },
  {
   "cell_type": "code",
   "execution_count": 5,
   "metadata": {},
   "outputs": [
    {
     "name": "stdout",
     "output_type": "stream",
     "text": [
      "Elevate your writing experience with our exquisite rosewood and gold fountain pen. Crafted with meticulous attention to detail, this limited-edition masterpiece combines timeless elegance and exceptional performance, making it a true work of art.\n"
     ]
    }
   ],
   "source": [
    "system_prompt = \"\"\"\n",
    "You are a helpful assistant whose goal is to help write product descriptions.\n",
    "\"\"\"\n",
    "\n",
    "prompt = \"\"\"\n",
    "Write a captivating product description for a luxurious, handcrafted, \n",
    "limited-edition fountain pen made from rosewood and gold.\n",
    "Write no more than 40 words.\n",
    "\"\"\"\n",
    "\n",
    "messages = [\n",
    "    (\"system\", prompt_system),\n",
    "    (\"human\", prompt)\n",
    "]\n",
    "prompt_template = ChatPromptTemplate.from_messages(messages)\n",
    "\n",
    "response = completion(prompt_template)\n",
    "print(response)"
   ]
  },
  {
   "cell_type": "markdown",
   "metadata": {},
   "source": [
    "### Zero-Shot Prompting"
   ]
  },
  {
   "cell_type": "code",
   "execution_count": 6,
   "metadata": {},
   "outputs": [
    {
     "name": "stdout",
     "output_type": "stream",
     "text": [
      "Here is a short poem about summer:\n",
      "\n",
      "Warm summer days, bright and long,\n",
      "Filled with laughter, joy, and song.\n",
      "Lazy afternoons by the sea,\n",
      "Waves lapping, a gentle symphony.\n",
      "\n",
      "Fireflies dance in the evening air,\n",
      "Crickets chirping without a care.\n",
      "Juicy fruits and flowers in bloom,\n",
      "Nature's vibrant, colorful tune.\n",
      "\n",
      "Memories made, moments to treasure,\n",
      "Summer's embrace, a timeless pleasure.\n",
      "Embracing the sun's golden glow,\n",
      "Savoring the season's ebb and flow.\n"
     ]
    }
   ],
   "source": [
    "prompt_system = \"You are a helpful assistant whose goal is to write short peoms.\"\n",
    "\n",
    "prompt = \"Write a short peom about {topic}.\"\n",
    "\n",
    "messages = [\n",
    "    (\"system\", prompt_system),\n",
    "    (\"human\", prompt)\n",
    "]\n",
    "\n",
    "parameters = {\"topic\": \"summer\"}\n",
    "\n",
    "prompt_template = ChatPromptTemplate.from_messages(messages)\n",
    "\n",
    "response = completion(prompt_template, parameters)\n",
    "print(response)\n"
   ]
  },
  {
   "cell_type": "markdown",
   "metadata": {},
   "source": [
    "### In-context learning"
   ]
  },
  {
   "cell_type": "code",
   "execution_count": 7,
   "metadata": {},
   "outputs": [
    {
     "name": "stdout",
     "output_type": "stream",
     "text": [
      "Warm sun on my face,\n",
      "Waves lapping at the shore,\n",
      "Summer's peaceful grace.\n"
     ]
    }
   ],
   "source": [
    "prompt = \"Write a short poem about {topic}.\"\n",
    "\n",
    "examples = {\n",
    "    \"nature\": \"\"\"Birdsong fills the air,\\nMountains high and valleys deep,\\nNature's music sweet.\"\"\",\n",
    "    \"winter\": \"\"\"Snow blankets the ground,\\nSilence is the only sound,\\nWinter's beaty found.\"\"\"\n",
    "}\n",
    "\n",
    "messages = [\n",
    "    (\"system\", prompt_system),\n",
    "    (\"human\", prompt.format(topic=\"nature\")),\n",
    "    (\"ai\", examples['nature']),\n",
    "    (\"human\", prompt.format(topic=\"winter\")),\n",
    "    (\"ai\", examples['winter']),\n",
    "    (\"human\", prompt.format(topic=\"summer\"))\n",
    "]\n",
    "\n",
    "prompt_template = ChatPromptTemplate.from_messages(messages)\n",
    "response = completion(prompt_template)\n",
    "print(response)"
   ]
  },
  {
   "cell_type": "code",
   "execution_count": 8,
   "metadata": {},
   "outputs": [
    {
     "name": "stdout",
     "output_type": "stream",
     "text": [
      "Color: purpose\n",
      "Emotion: determination\n"
     ]
    }
   ],
   "source": [
    "from langchain import PromptTemplate, FewShotPromptTemplate\n",
    "examples = [\n",
    "    {\"color\": \"red\", \"emotion\": \"passion\"},\n",
    "    {\"color\": \"blue\", \"emotion\": \"serenity\"},\n",
    "    {\"color\": \"green\", \"emotion\": \"tranquility\"},\n",
    "]\n",
    "\n",
    "example_formatter_template = \"\"\"\n",
    "Color: {color}\n",
    "Emotion: {emotion}\\n\n",
    "\"\"\"\n",
    "example_prompt = PromptTemplate(\n",
    "    input_variables=[\"color\", \"emotion\"],\n",
    "    template=example_formatter_template,\n",
    ")\n",
    "\n",
    "few_shot_prompt = FewShotPromptTemplate(\n",
    "    examples=examples,\n",
    "    example_prompt=example_prompt,\n",
    "    prefix=\"\"\"Here are some examples of colors and the emotions associated with \\\n",
    "them:\\n\\n\"\"\",\n",
    "    suffix=\"\"\"\\n\\nNow, given a new color, identify the emotion associated with \\\n",
    "it. Just color and emotion on output:\\n\\nColor: {input}\\nEmotion:\"\"\",\n",
    "    input_variables=[\"input\"],\n",
    "    example_separator=\"\\n\",\n",
    ")\n",
    "\n",
    "response = completion(few_shot_prompt, {\"input\": \"purpose\"})\n",
    "print(response)\n"
   ]
  },
  {
   "cell_type": "markdown",
   "metadata": {},
   "source": [
    "### Chain Prompting\n",
    "\n",
    "> [Notes] I don't quite like the way of chaining prompts - a previous output is an input for the next. Will setup a todo task to investigation better practices."
   ]
  },
  {
   "cell_type": "code",
   "execution_count": 9,
   "metadata": {},
   "outputs": [
    {
     "data": {
      "text/plain": [
       "\"Albert Einstein's theory of general relativity is a fundamental theory in physics that describes the nature of gravity and its relationship to the structure of space and time. The key ideas of the theory are:\\n\\n1. Gravity is not a force, but a consequence of the curvature of spacetime. The presence of mass and energy causes a distortion or curvature in the fabric of spacetime, and this curvature is what we experience as the force of gravity.\\n\\n2. The motion of objects is determined by the curvature of spacetime. Massive objects, like planets and stars, curve the spacetime around them, and other objects, like smaller planets or satellites, follow the curvature of this spacetime.\\n\\n3. The speed of light is constant in all reference frames. This is a fundamental principle of the theory, which has important implications for our understanding of space, time, and the nature of the universe.\\n\\n4. Space and time are not absolute, but are relative to the observer. The theory of general relativity shows that the measurements of space and time can change depending on the motion and gravitational fields experienced by the observer.\\n\\nThe theory of general relativity has been extensively tested and has become a cornerstone of modern physics, with numerous practical applications in fields such as astronomy, GPS technology, and the study of black holes and the evolution of the universe.\""
      ]
     },
     "execution_count": 9,
     "metadata": {},
     "output_type": "execute_result"
    }
   ],
   "source": [
    "# prompt 1\n",
    "template_question = \"\"\"\n",
    "What is the name of the famous scientist who developed the theory of general relativity?\n",
    "Answer (include name only, nothing else):\n",
    "\"\"\"\n",
    "prompt_question = PromptTemplate(template=template_question, input_variables=[])\n",
    "\n",
    "# prompt 2\n",
    "tempalte_fact = \"\"\"\n",
    "Provide a brief description of {scientist}'s theory of general relativity.\n",
    "Answer:\n",
    "\"\"\"\n",
    "prompt_fact = PromptTemplate(template=tempalte_fact, input_variables=['scientist'])\n",
    "\n",
    "scientist = completion(prompt_question)\n",
    "\n",
    "completion(prompt_fact, {\"scientist\": scientist})"
   ]
  },
  {
   "cell_type": "markdown",
   "metadata": {},
   "source": [
    "### Bad Prompt Practices"
   ]
  },
  {
   "cell_type": "code",
   "execution_count": 10,
   "metadata": {},
   "outputs": [
    {
     "data": {
      "text/plain": [
       "'Tell me something about dog.'"
      ]
     },
     "execution_count": 10,
     "metadata": {},
     "output_type": "execute_result"
    }
   ],
   "source": [
    "template = \"Tell me something about {topic}.\"\n",
    "prompt = PromptTemplate(template=template, input_variables=[\"topic\"])\n",
    "prompt.format(topic=\"dog\")"
   ]
  },
  {
   "cell_type": "code",
   "execution_count": 11,
   "metadata": {},
   "outputs": [
    {
     "data": {
      "text/plain": [
       "'Here are some interesting facts about Albert Einstein:\\n\\n1. Einstein\\'s famous equation E=mc^2 shows the relationship between energy (E), mass (m), and the speed of light (c). This equation demonstrates that energy and mass are interchangeable.\\n\\n2. Einstein received the Nobel Prize in Physics in 1921, not for his theory of relativity, but for his discovery of the law of the photoelectric effect, which was an important foundation for the development of quantum theory.\\n\\n3. Einstein was born in Germany but later renounced his German citizenship. He was a pacifist and a humanitarian who spoke out against nationalism and racism. He refused to work on the atomic bomb during World War II.\\n\\n4. Einstein had a very distinctive hairstyle - wild, unkempt curly hair. This became part of his iconic image as the brilliant, eccentric scientist. He often joked that he didn\\'t have time to get his hair cut.\\n\\n5. Despite his brilliance, Einstein struggled in school as a child. He was a late talker and was thought to be mentally disabled by some of his teachers. However, he went on to become one of the most influential scientists of all time.\\n\\n6. Einstein was deeply interested in philosophy and religion. He did not believe in a personal God, but rather in the \"God of Spinoza\" - a cosmic religious feeling about the harmony and beauty of the universe.\\n\\nThese are just a few of the many fascinating facts about the life and work of the legendary Albert Einstein. His scientific contributions and unique persona have made him one of the most recognizable figures in history.'"
      ]
     },
     "execution_count": 11,
     "metadata": {},
     "output_type": "execute_result"
    }
   ],
   "source": [
    "template_fact = \"\"\"\n",
    "Tell me something interesting about {scientist}\n",
    "Answer:\n",
    "\"\"\"\n",
    "prompt_fact = PromptTemplate(template=template_fact, input_variables=[\"scientist\"])\n",
    "completion(prompt_fact, {\"scientist\": scientist})"
   ]
  },
  {
   "cell_type": "markdown",
   "metadata": {},
   "source": [
    "### Tips for Effective Prompting"
   ]
  },
  {
   "cell_type": "markdown",
   "metadata": {},
   "source": [
    "With few-shot prompting, `Claude Haiku` (the default FM model we are using) seems to be keen to provide more informative response in the below example. I've provided two editions on prompt setting at suffix, with which you may need to steer Claude to align to examples on specific areas. In addition, I shared a 'chat' style prompting at the end."
   ]
  },
  {
   "cell_type": "markdown",
   "metadata": {},
   "source": [
    "* Example 1: Simple suffix leads to informative response."
   ]
  },
  {
   "cell_type": "code",
   "execution_count": 12,
   "metadata": {},
   "outputs": [
    {
     "name": "stdout",
     "output_type": "stream",
     "text": [
      "Here are some tips for improving communication skills based on the AI life coach's advice:\n",
      "\n",
      "User: What are some tips for improving communication skills?\n",
      "AI: Here are some helpful tips for improving your communication skills:\n",
      "\n",
      "- Practice active listening. Make eye contact, ask clarifying questions, and paraphrase what the other person is saying to show you are engaged and understanding them.\n",
      "\n",
      "- Work on your body language. Stand or sit with an open, confident posture. Use hand gestures and facial expressions to emphasize your points.\n",
      "\n",
      "- Speak clearly and concisely. Avoid filler words like \"um\" and \"uh.\" Get to the point and organize your thoughts before speaking.\n",
      "\n",
      "- Learn to read social cues. Pay attention to the other person's tone, facial expressions, and body language to understand how they are responding.\n",
      "\n",
      "- Be empathetic and try to see things from the other person's perspective. This can help you communicate in a more understanding and relatable way.\n",
      "\n",
      "- Practice, practice, practice. The more you put your communication skills to use, the more natural and effective they will become over time.\n",
      "\n",
      "The key is to focus on both the verbal and nonverbal aspects of communication. With patience and consistent effort, you can develop stronger communication abilities.\n"
     ]
    }
   ],
   "source": [
    "examples = [\n",
    "    {\n",
    "        \"query\": \"What's the secret to happiness?\",\n",
    "        \"answer\": \"Finding balance in life and learning to enjoy the small moments.\"\n",
    "    },\n",
    "    {\n",
    "        \"query\": \"How can I become more productive?\",\n",
    "        \"answer\": \"Try prioritizing tasks, setting goals, and maintaining a healthy work-life balance.\"\n",
    "    }\n",
    "]\n",
    "\n",
    "example_template = \"\"\"\n",
    "User: {query}\n",
    "AI: {answer}\n",
    "\"\"\"\n",
    "\n",
    "example_prompt = PromptTemplate(\n",
    "    template=example_template, input_variables=[\"query\", \"answer\"]\n",
    ")\n",
    "\n",
    "prefix = \"\"\"\n",
    "The following are excerpts from conversations with an AI life coach. The assistant provides insightful and\n",
    "practical advice to the users' questions. Here are some examples:\n",
    "\"\"\"\n",
    "\n",
    "suffix = \"\"\"\n",
    "User: {query}\n",
    "AI:\n",
    "\"\"\"\n",
    "\n",
    "few_shot_prompt_template = FewShotPromptTemplate(\n",
    "    examples=examples,\n",
    "    example_prompt=example_prompt,\n",
    "    prefix=prefix,\n",
    "    suffix=suffix,\n",
    "    input_variables=[\"query\"],\n",
    "    example_separator=\"\\n\\n\"\n",
    ")\n",
    "# few_shot_prompt_template.format_prompt()\n",
    "\n",
    "parameters = {\"query\": \"What are some tips for improving communication skills?\"}\n",
    "\n",
    "response = completion(few_shot_prompt_template, parameters)\n",
    "print(response)"
   ]
  },
  {
   "cell_type": "markdown",
   "metadata": {},
   "source": [
    "* Example 2: Be specific on the expected output aginst the context (/examples)"
   ]
  },
  {
   "cell_type": "code",
   "execution_count": 13,
   "metadata": {},
   "outputs": [
    {
     "name": "stdout",
     "output_type": "stream",
     "text": [
      "Here is a concise response to the question about improving communication skills:\n",
      "\n",
      "User: What are some tips for improving communication skills?\n",
      "AI: Practice active listening, speak clearly and confidently, and work on empathy and understanding others' perspectives.\n"
     ]
    }
   ],
   "source": [
    "suffix = \"\"\"\n",
    "Please answer the below question as concise as the above examples:\n",
    "User: {query}\n",
    "AI:\n",
    "\"\"\"\n",
    "\n",
    "few_shot_prompt_template = FewShotPromptTemplate(\n",
    "    examples=examples,\n",
    "    example_prompt=example_prompt,\n",
    "    prefix=prefix,\n",
    "    suffix=suffix,\n",
    "    input_variables=[\"query\"],\n",
    "    example_separator=\"\\n\\n\"\n",
    ")\n",
    "# few_shot_prompt_template.format_prompt()\n",
    "\n",
    "parameters = {\"query\": \"What are some tips for improving communication skills?\"}\n",
    "\n",
    "response = completion(few_shot_prompt_template, parameters)\n",
    "print(response)"
   ]
  },
  {
   "cell_type": "markdown",
   "metadata": {},
   "source": [
    "* Example 3: 'Chat' style prompting."
   ]
  },
  {
   "cell_type": "code",
   "execution_count": 14,
   "metadata": {},
   "outputs": [
    {
     "name": "stdout",
     "output_type": "stream",
     "text": [
      "Some tips for improving communication skills include active listening, asking thoughtful questions, and being aware of your body language and tone.\n"
     ]
    }
   ],
   "source": [
    "system_prompt = prefix\n",
    "\n",
    "messages = [\n",
    "    (\"system\", system_prompt),\n",
    "    (\"human\", examples[0]['query']),\n",
    "    (\"ai\", examples[0]['answer']),\n",
    "    (\"human\", examples[1]['query']),\n",
    "    (\"ai\", examples[1]['answer']),\n",
    "    (\"human\", \"What are some tips for improving communication skills?\")\n",
    "]\n",
    "\n",
    "prompt_template = ChatPromptTemplate.from_messages(messages)\n",
    "response = completion(prompt_template)\n",
    "print(response)"
   ]
  },
  {
   "cell_type": "code",
   "execution_count": null,
   "metadata": {},
   "outputs": [],
   "source": []
  }
 ],
 "metadata": {
  "kernelspec": {
   "display_name": "llm-prod",
   "language": "python",
   "name": "python3"
  },
  "language_info": {
   "codemirror_mode": {
    "name": "ipython",
    "version": 3
   },
   "file_extension": ".py",
   "mimetype": "text/x-python",
   "name": "python",
   "nbconvert_exporter": "python",
   "pygments_lexer": "ipython3",
   "version": "3.11.9"
  }
 },
 "nbformat": 4,
 "nbformat_minor": 2
}
